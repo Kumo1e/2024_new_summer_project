{
  "nbformat": 4,
  "nbformat_minor": 0,
  "metadata": {
    "colab": {
      "provenance": []
    },
    "kernelspec": {
      "name": "python3",
      "display_name": "Python 3"
    },
    "language_info": {
      "name": "python"
    }
  },
  "cells": [
    {
      "cell_type": "markdown",
      "source": [
        "### 爬蟲 - 臺灣資安大會 參展品牌資訊"
      ],
      "metadata": {
        "id": "-lhC3prVy0yH"
      }
    },
    {
      "cell_type": "code",
      "execution_count": null,
      "metadata": {
        "colab": {
          "base_uri": "https://localhost:8080/"
        },
        "id": "hnI3_-kiGEYZ",
        "outputId": "3f8accde-ee6a-4dc1-ed0b-d2674411ea30"
      },
      "outputs": [
        {
          "output_type": "execute_result",
          "data": {
            "text/plain": [
              "<Response [200]>"
            ]
          },
          "metadata": {},
          "execution_count": 1
        }
      ],
      "source": [
        "url = \"https://cybersec.ithome.com.tw/2024/exhibitionDirectory\"\n",
        "\n",
        "import requests\n",
        "response = requests.get(url)\n",
        "response"
      ]
    },
    {
      "cell_type": "code",
      "source": [
        "len(response.text)"
      ],
      "metadata": {
        "colab": {
          "base_uri": "https://localhost:8080/"
        },
        "id": "Gj50I2waGuj9",
        "outputId": "11505e3b-84a1-4f5a-cb8d-f12f50792b0e"
      },
      "execution_count": null,
      "outputs": [
        {
          "output_type": "execute_result",
          "data": {
            "text/plain": [
              "717633"
            ]
          },
          "metadata": {},
          "execution_count": 2
        }
      ]
    },
    {
      "cell_type": "code",
      "source": [
        "from bs4 import BeautifulSoup\n",
        "\n",
        "cybersec_soup = BeautifulSoup(response.text, \"html.parser\")"
      ],
      "metadata": {
        "id": "4nLGEXyBGj3k"
      },
      "execution_count": null,
      "outputs": []
    },
    {
      "cell_type": "code",
      "source": [
        "base = \"https://cybersec.ithome.com.tw\"\n",
        "exd_cards = cybersec_soup.find_all(\"div\", attrs ={\"class\": \"exd-card\"})\n",
        "exd_info = []\n",
        "for exd_card in exd_cards:\n",
        "  exd_card_name =exd_card.find(\"h5\").text\n",
        "  href =  base + exd_card.find(\"a\")[\"href\"]\n",
        "\n",
        "  if exd_card.h6:\n",
        "    exd_card_h6 = exd_card.find(\"h6\").text[5:]\n",
        "\n",
        "  exd_info.append({\n",
        "      \"name\" : exd_card_name,\n",
        "      \"url\" : href,\n",
        "      \"space\" : exd_card_h6\n",
        "  })\n",
        "  print(exd_card_name, href, exd_card_h6, sep=\"  \")"
      ],
      "metadata": {
        "colab": {
          "base_uri": "https://localhost:8080/"
        },
        "id": "iVmlhfioG9-v",
        "outputId": "c89576dc-f108-499d-9d4e-f5866922ce0c"
      },
      "execution_count": null,
      "outputs": [
        {
          "output_type": "stream",
          "name": "stdout",
          "text": [
            "A10 Networks  https://cybersec.ithome.com.tw/2024/exhibition-page/2054  C307\n",
            "三甲科技  https://cybersec.ithome.com.tw/2024/exhibition-page/2226  T37\n",
            "ABPSecurite  https://cybersec.ithome.com.tw/2024/exhibition-page/2079  P302\n",
            "ACAD 安碁學苑股份有限公司  https://cybersec.ithome.com.tw/2024/exhibition-page/2249  CT08\n",
            "鼎峰亞太  https://cybersec.ithome.com.tw/2024/exhibition-page/2000  P216\n",
            "ACSI 安碁資訊  https://cybersec.ithome.com.tw/2024/exhibition-page/2240  T27、T28\n",
            "宏碁資訊  https://cybersec.ithome.com.tw/2024/exhibition-page/1945  C111\n",
            "ADI 數位發展部 數位產業署  https://cybersec.ithome.com.tw/2024/exhibition-page/2268  C111\n",
            "AIN 全智網科技  https://cybersec.ithome.com.tw/2024/exhibition-page/2248  CT03\n",
            "AISOL 艾索科技  https://cybersec.ithome.com.tw/2024/exhibition-page/2080  P108\n",
            "阿卡邁  https://cybersec.ithome.com.tw/2024/exhibition-page/2055  C203\n",
            "Allied Telesis  https://cybersec.ithome.com.tw/2024/exhibition-page/2056  P214\n",
            "Allot  https://cybersec.ithome.com.tw/2024/exhibition-page/2105  C110、P115\n",
            "Aqua Security  https://cybersec.ithome.com.tw/2024/exhibition-page/1972  C317\n",
            "ARCHER  https://cybersec.ithome.com.tw/2024/exhibition-page/2205  C110\n",
            "軍崴科技  https://cybersec.ithome.com.tw/2024/exhibition-page/2081  C218\n",
            "鎧睿全球科技  https://cybersec.ithome.com.tw/2024/exhibition-page/2216  T30\n",
            "Array Networks  https://cybersec.ithome.com.tw/2024/exhibition-page/2107  C310\n",
            "AuthenTrend  https://cybersec.ithome.com.tw/2024/exhibition-page/2208  T05\n",
            "Authme 數位身分  https://cybersec.ithome.com.tw/2024/exhibition-page/2050  Q202\n",
            "艾訊  https://cybersec.ithome.com.tw/2024/exhibition-page/2001  P113\n",
            "博士旺  https://cybersec.ithome.com.tw/2024/exhibition-page/2237  T17\n",
            "BAOYI 寶誼資訊  https://cybersec.ithome.com.tw/2024/exhibition-page/2061  C227\n",
            "NetGuardians  https://cybersec.ithome.com.tw/2024/exhibition-page/2062  C227\n",
            "BCCS 漢昕科技  https://cybersec.ithome.com.tw/2024/exhibition-page/2245  T21\n",
            "湛揚雲科技  https://cybersec.ithome.com.tw/2024/exhibition-page/2108  P109\n",
            "竣盟科技  https://cybersec.ithome.com.tw/2024/exhibition-page/2217  T01\n",
            "集先鋒科技  https://cybersec.ithome.com.tw/2024/exhibition-page/2250  T11\n",
            "Bitdefender  https://cybersec.ithome.com.tw/2024/exhibition-page/2070  C124\n",
            "BITSIGHT  https://cybersec.ithome.com.tw/2024/exhibition-page/2199  C110\n",
            "BlackBerry  https://cybersec.ithome.com.tw/2024/exhibition-page/1958  P104\n",
            "Black Kite  https://cybersec.ithome.com.tw/2024/exhibition-page/2316  P216\n",
            "Blancco  https://cybersec.ithome.com.tw/2024/exhibition-page/2002  C324\n",
            "區塊科技  https://cybersec.ithome.com.tw/2024/exhibition-page/2227  T20\n",
            "Bloombase  https://cybersec.ithome.com.tw/2024/exhibition-page/2259  C318\n",
            "BlueCat Networks  https://cybersec.ithome.com.tw/2024/exhibition-page/2180  C218\n",
            "藍籌科技  https://cybersec.ithome.com.tw/2024/exhibition-page/2085  C206\n",
            "BUREAU VERITAS 必維國際檢驗集團  https://cybersec.ithome.com.tw/2024/exhibition-page/1944  P306\n",
            "英商科能有限公司台灣分公司  https://cybersec.ithome.com.tw/2024/exhibition-page/2147  C124\n",
            "凱信資訊  https://cybersec.ithome.com.tw/2024/exhibition-page/1994  P111、P112\n",
            "Cato Networks  https://cybersec.ithome.com.tw/2024/exhibition-page/2077  C116\n",
            "CDNetworks  https://cybersec.ithome.com.tw/2024/exhibition-page/2005  C120\n",
            "Cellebrite / 代理：高田科技有限公司  https://cybersec.ithome.com.tw/2024/exhibition-page/1949  C308\n",
            "Cellopoint  https://cybersec.ithome.com.tw/2024/exhibition-page/1959  C207\n",
            "CGS Tower Networks / 總代理：辰亞科技  https://cybersec.ithome.com.tw/2024/exhibition-page/2175  C102\n",
            "全景軟體  https://cybersec.ithome.com.tw/2024/exhibition-page/2090  C104、T42\n",
            "全景軟體  https://cybersec.ithome.com.tw/2024/exhibition-page/2312  AH01\n",
            "Check Point Software  https://cybersec.ithome.com.tw/2024/exhibition-page/1973  C239\n",
            "池安量子  https://cybersec.ithome.com.tw/2024/exhibition-page/2271  C239\n",
            "中華電信  https://cybersec.ithome.com.tw/2024/exhibition-page/1937  P201、T29、T32\n",
            "中華資安國際股份有限公司  https://cybersec.ithome.com.tw/2024/exhibition-page/1938  P201、T26、T31\n",
            "Cimcor  / 代理：商丞科技  https://cybersec.ithome.com.tw/2024/exhibition-page/1988  Q107\n",
            "CipherTech 亞利安科技  https://cybersec.ithome.com.tw/2024/exhibition-page/2093  C235、Q115\n",
            "朝陽科技  https://cybersec.ithome.com.tw/2024/exhibition-page/1975  C216\n",
            "思科台灣  https://cybersec.ithome.com.tw/2024/exhibition-page/1939  P301\n",
            "CKmates 銓鍇國際  https://cybersec.ithome.com.tw/2024/exhibition-page/2188  C211\n",
            "公信電子  https://cybersec.ithome.com.tw/2024/exhibition-page/2006  C238\n",
            "Cloud Ace  https://cybersec.ithome.com.tw/2024/exhibition-page/2106  C304\n",
            "Cloudflare  https://cybersec.ithome.com.tw/2024/exhibition-page/1989  P207\n",
            "紘瑒科技  https://cybersec.ithome.com.tw/2024/exhibition-page/1974  C216\n",
            "雲智維科技  https://cybersec.ithome.com.tw/2024/exhibition-page/2244  T07\n",
            "CloudMile 萬里雲  https://cybersec.ithome.com.tw/2024/exhibition-page/2103  Q210\n",
            "comforte  https://cybersec.ithome.com.tw/2024/exhibition-page/2007  C105\n",
            "中華民國電腦稽核協會  https://cybersec.ithome.com.tw/2024/exhibition-page/2275  C105\n",
            "Core Cloud  https://cybersec.ithome.com.tw/2024/exhibition-page/2078  Q207\n",
            "CrowdStrike  https://cybersec.ithome.com.tw/2024/exhibition-page/1990  C328\n",
            "財團法人中華民國電腦技能基金會 (CSF)  https://cybersec.ithome.com.tw/2024/exhibition-page/2221  CT05\n",
            "誠雲科技  https://cybersec.ithome.com.tw/2024/exhibition-page/2009  Q110\n",
            "Cubro Network  https://cybersec.ithome.com.tw/2024/exhibition-page/2110  P115\n",
            "CyberArk  https://cybersec.ithome.com.tw/2024/exhibition-page/2067  C124、C227\n",
            "Cybereason  https://cybersec.ithome.com.tw/2024/exhibition-page/2187  C110\n",
            "CybergymIEC  https://cybersec.ithome.com.tw/2024/exhibition-page/2308  P104\n",
            "奇資安  https://cybersec.ithome.com.tw/2024/exhibition-page/2177  P104\n",
            "Cyberview 力悅資訊  https://cybersec.ithome.com.tw/2024/exhibition-page/2068  C124\n",
            "CyCatena  https://cybersec.ithome.com.tw/2024/exhibition-page/2218  T39\n",
            "奧義智慧科技  https://cybersec.ithome.com.tw/2024/exhibition-page/1932  Q201\n",
            "Cymetrics 新加坡商甯寶數位科技有限公司台灣分公司  https://cybersec.ithome.com.tw/2024/exhibition-page/1940  C322\n",
            "CECO  https://cybersec.ithome.com.tw/2024/exhibition-page/2202  C322\n",
            "Darktrace  https://cybersec.ithome.com.tw/2024/exhibition-page/2111  C228\n",
            "dataisec 智安數據  https://cybersec.ithome.com.tw/2024/exhibition-page/1960  C106、P104\n",
            "帝濶智慧科技  https://cybersec.ithome.com.tw/2024/exhibition-page/2377  C106、P104\n",
            "DEKRA  https://cybersec.ithome.com.tw/2024/exhibition-page/2167  Q103\n",
            "Delinea  https://cybersec.ithome.com.tw/2024/exhibition-page/2010  P101\n",
            "戴爾科技  https://cybersec.ithome.com.tw/2024/exhibition-page/2011  P101\n",
            "Deloitte 勤業眾信  https://cybersec.ithome.com.tw/2024/exhibition-page/2112  P101\n",
            "Delta Electronics  https://cybersec.ithome.com.tw/2024/exhibition-page/2158  Q203\n",
            "DEVCORE  https://cybersec.ithome.com.tw/2024/exhibition-page/2109  Q208\n",
            "果核數位  https://cybersec.ithome.com.tw/2024/exhibition-page/2071  C233\n",
            "社團法人台灣數位科技與政策協進會  https://cybersec.ithome.com.tw/2024/exhibition-page/2346  C233\n",
            "Docutek 達友科技  https://cybersec.ithome.com.tw/2024/exhibition-page/1962  P104\n",
            "DoQubiz 恆智資安  https://cybersec.ithome.com.tw/2024/exhibition-page/2210  T14\n",
            "中華龍網  https://cybersec.ithome.com.tw/2024/exhibition-page/2113  C213\n",
            "DT Asia / 代理：澄安國際  https://cybersec.ithome.com.tw/2024/exhibition-page/1954  P215\n",
            "香港商第一線有限公司台灣分公司  https://cybersec.ithome.com.tw/2024/exhibition-page/1946  C312\n",
            "數位通國際  https://cybersec.ithome.com.tw/2024/exhibition-page/2013  Q219\n",
            "伊雲谷數位科技股份有限公司  https://cybersec.ithome.com.tw/2024/exhibition-page/2117  P305\n",
            "EC-NETWORKER 易璽科技  https://cybersec.ithome.com.tw/2024/exhibition-page/2114  P212\n",
            "EdgeNext  https://cybersec.ithome.com.tw/2024/exhibition-page/2015  C334\n",
            "Edgio  https://cybersec.ithome.com.tw/2024/exhibition-page/2014  Q219\n",
            "益登科技股份有限公司  https://cybersec.ithome.com.tw/2024/exhibition-page/2379  AH06\n",
            "易達通網路通訊集團  https://cybersec.ithome.com.tw/2024/exhibition-page/1952  Q211\n",
            "Efficient iP  https://cybersec.ithome.com.tw/2024/exhibition-page/2082  Q113\n",
            "Ekran System / 代理：商丞科技  https://cybersec.ithome.com.tw/2024/exhibition-page/1986  Q107\n",
            "Electrum Cloud 蔚藍雲  https://cybersec.ithome.com.tw/2024/exhibition-page/2184  Q210\n",
            "英能/Energywell  https://cybersec.ithome.com.tw/2024/exhibition-page/2016  C330\n",
            "伊諾瓦科技股份有限公司  https://cybersec.ithome.com.tw/2024/exhibition-page/2356  AH07\n",
            "Entrust  https://cybersec.ithome.com.tw/2024/exhibition-page/2322  P104\n",
            "Envinex 派恩科技  https://cybersec.ithome.com.tw/2024/exhibition-page/2115  P115\n",
            "EQIT 一休資訊  https://cybersec.ithome.com.tw/2024/exhibition-page/2121  C202\n",
            "ESET  https://cybersec.ithome.com.tw/2024/exhibition-page/1998  C219\n",
            "e-SOFT 曜祥網技  https://cybersec.ithome.com.tw/2024/exhibition-page/1933  P105\n",
            "玉山銀行  https://cybersec.ithome.com.tw/2024/exhibition-page/2213  CT06\n",
            "EverMore  https://cybersec.ithome.com.tw/2024/exhibition-page/2125  Q112\n",
            "ExtraHop  https://cybersec.ithome.com.tw/2024/exhibition-page/2083  C118\n",
            "F5  https://cybersec.ithome.com.tw/2024/exhibition-page/1976  C117\n",
            "中飛科技  https://cybersec.ithome.com.tw/2024/exhibition-page/2017  Q214\n",
            "FASTLY  https://cybersec.ithome.com.tw/2024/exhibition-page/2148  C327\n",
            "Fidelis Cybersecurity  https://cybersec.ithome.com.tw/2024/exhibition-page/2116  Q109\n",
            "邊信聯科技股份有限公司  https://cybersec.ithome.com.tw/2024/exhibition-page/2373  Q109\n",
            "FineArt Technology 精品科技  https://cybersec.ithome.com.tw/2024/exhibition-page/1935  P103\n",
            "華苓科技股份有限公司  https://cybersec.ithome.com.tw/2024/exhibition-page/2374  P103\n",
            "Focusecure  https://cybersec.ithome.com.tw/2024/exhibition-page/2066  C227\n",
            "Forcepoint  https://cybersec.ithome.com.tw/2024/exhibition-page/1963  P110、P104\n",
            "Forescout  https://cybersec.ithome.com.tw/2024/exhibition-page/2084  P206\n",
            "Fortinet  https://cybersec.ithome.com.tw/2024/exhibition-page/2076  C201\n",
            "Fortra  https://cybersec.ithome.com.tw/2024/exhibition-page/2019  P205\n",
            "是向科技有限公司  https://cybersec.ithome.com.tw/2024/exhibition-page/2372  P205\n",
            "自由系統  https://cybersec.ithome.com.tw/2024/exhibition-page/2118  C113\n",
            "Frontier  https://cybersec.ithome.com.tw/2024/exhibition-page/2004  C324\n",
            "Fudo Security  https://cybersec.ithome.com.tw/2024/exhibition-page/2119  Q109\n",
            "蓋亞資訊  https://cybersec.ithome.com.tw/2024/exhibition-page/2367  C329\n",
            "GSS 叡揚資訊  https://cybersec.ithome.com.tw/2024/exhibition-page/2024  C222\n",
            "Gandi  https://cybersec.ithome.com.tw/2024/exhibition-page/2022  C319\n",
            "威睿科技  https://cybersec.ithome.com.tw/2024/exhibition-page/2074  C215\n",
            "智弘軟體  https://cybersec.ithome.com.tw/2024/exhibition-page/1964  P104\n",
            "智弘軟體  https://cybersec.ithome.com.tw/2024/exhibition-page/2236  T36\n",
            "Gogolook 走著瞧股份有限公司  https://cybersec.ithome.com.tw/2024/exhibition-page/2130  Q305\n",
            "Google Cloud  https://cybersec.ithome.com.tw/2024/exhibition-page/2058  C204\n",
            "Gorilla  Tech  https://cybersec.ithome.com.tw/2024/exhibition-page/2023  Q215\n",
            "GREYCORTEX  https://cybersec.ithome.com.tw/2024/exhibition-page/1999  C219\n",
            "hackuity  https://cybersec.ithome.com.tw/2024/exhibition-page/2229  C315\n",
            "HCL Software  https://cybersec.ithome.com.tw/2024/exhibition-page/1984  C234\n",
            "HENNGE 台灣惠頂益  https://cybersec.ithome.com.tw/2024/exhibition-page/1987  C301\n",
            "HPE 慧與科技  https://cybersec.ithome.com.tw/2024/exhibition-page/2053  C208\n",
            "海爾雲端  https://cybersec.ithome.com.tw/2024/exhibition-page/2140  C240\n",
            "皓展資訊  https://cybersec.ithome.com.tw/2024/exhibition-page/2025  C121\n",
            "華電聯網  https://cybersec.ithome.com.tw/2024/exhibition-page/2265  C309\n",
            "IBM  https://cybersec.ithome.com.tw/2024/exhibition-page/1995  P111\n",
            "艾博特 iBotech  https://cybersec.ithome.com.tw/2024/exhibition-page/1950  Q108\n",
            "ICEShell 艾斯冰殼  https://cybersec.ithome.com.tw/2024/exhibition-page/2209  T12\n",
            "鑒真數位  https://cybersec.ithome.com.tw/2024/exhibition-page/2228  T19\n",
            "IGEL  https://cybersec.ithome.com.tw/2024/exhibition-page/2192  T19\n",
            "illumio  https://cybersec.ithome.com.tw/2024/exhibition-page/1965  P104\n",
            "Imperva  https://cybersec.ithome.com.tw/2024/exhibition-page/2099  Q115\n",
            "Industrial Defender  https://cybersec.ithome.com.tw/2024/exhibition-page/2194  Q115\n",
            "工業技術研究院  https://cybersec.ithome.com.tw/2024/exhibition-page/2269  Q115\n",
            "台灣英飛凌科技股份有限公司  https://cybersec.ithome.com.tw/2024/exhibition-page/2357  AH05\n",
            "Infoblox  https://cybersec.ithome.com.tw/2024/exhibition-page/2190  C303\n",
            "銓安智慧科技  https://cybersec.ithome.com.tw/2024/exhibition-page/2196  Q206\n",
            "iSEC  https://cybersec.ithome.com.tw/2024/exhibition-page/2307  P104\n",
            "數聯資安  https://cybersec.ithome.com.tw/2024/exhibition-page/2073  Q301\n",
            "安和科技  https://cybersec.ithome.com.tw/2024/exhibition-page/2142  C236\n",
            "東捷資訊  https://cybersec.ithome.com.tw/2024/exhibition-page/2028  Q101\n",
            "財團法人資訊工業策進會  https://cybersec.ithome.com.tw/2024/exhibition-page/2146  P218\n",
            "財團法人資訊工業策進會  https://cybersec.ithome.com.tw/2024/exhibition-page/2270  P218\n",
            "SS&C Intralinks  https://cybersec.ithome.com.tw/2024/exhibition-page/2037  C305\n",
            "Invicti Security  https://cybersec.ithome.com.tw/2024/exhibition-page/2362  P104\n",
            "Invisiron  https://cybersec.ithome.com.tw/2024/exhibition-page/2201  C331\n",
            "智域國際  https://cybersec.ithome.com.tw/2024/exhibition-page/2026  C237\n",
            "國際自動化協會臺灣分會  https://cybersec.ithome.com.tw/2024/exhibition-page/2355  C237\n",
            "ISC2 Taipei  https://cybersec.ithome.com.tw/2024/exhibition-page/2347  CT09\n",
            "ISC2 Taipei  https://cybersec.ithome.com.tw/2024/exhibition-page/2348  CT09\n",
            "iSecurity 數位資安  https://cybersec.ithome.com.tw/2024/exhibition-page/2020  P205\n",
            "教育部資訊安全人才培育計畫  https://cybersec.ithome.com.tw/2024/exhibition-page/2222  P205\n",
            "IS-Technology  https://cybersec.ithome.com.tw/2024/exhibition-page/2260  C318\n",
            "Jamf  https://cybersec.ithome.com.tw/2024/exhibition-page/2143  Q104\n",
            "JJNET 鉅晶國際  https://cybersec.ithome.com.tw/2024/exhibition-page/2120  C228、C333\n",
            "Jrsys 捷而思  https://cybersec.ithome.com.tw/2024/exhibition-page/2235  T24\n",
            "Kaspersky  https://cybersec.ithome.com.tw/2024/exhibition-page/2048  Q102\n",
            "KELA  https://cybersec.ithome.com.tw/2024/exhibition-page/2065  C227\n",
            "Keysight  https://cybersec.ithome.com.tw/2024/exhibition-page/2206  C110\n",
            "Keysight  https://cybersec.ithome.com.tw/2024/exhibition-page/2360  AH09\n",
            "關楗  https://cybersec.ithome.com.tw/2024/exhibition-page/1966  C214\n",
            "全濠科技股份有限公司  https://cybersec.ithome.com.tw/2024/exhibition-page/2371  C214\n",
            "七維思  https://cybersec.ithome.com.tw/2024/exhibition-page/2122  P211\n",
            "可立可股份有限公司  https://cybersec.ithome.com.tw/2024/exhibition-page/2211  T38\n",
            "KnowBe4  https://cybersec.ithome.com.tw/2024/exhibition-page/2123  P212\n",
            "L7 Networks  https://cybersec.ithome.com.tw/2024/exhibition-page/2029  C321\n",
            "L.K.C. Lab 盧氪賽忒  https://cybersec.ithome.com.tw/2024/exhibition-page/2153  T06\n",
            "樂雲智能  https://cybersec.ithome.com.tw/2024/exhibition-page/2144  C108、C327\n",
            "LIONIC  https://cybersec.ithome.com.tw/2024/exhibition-page/2219  T33\n",
            "來毅數位科技  https://cybersec.ithome.com.tw/2024/exhibition-page/2149  C223\n",
            "旺宏電子 Macronix  https://cybersec.ithome.com.tw/2024/exhibition-page/2313  AH08\n",
            "Mammoth Cyber  https://cybersec.ithome.com.tw/2024/exhibition-page/2051  Q202\n",
            "ManageEngine / 代理：藍籌科技  https://cybersec.ithome.com.tw/2024/exhibition-page/2087  C206\n",
            "Menlo  https://cybersec.ithome.com.tw/2024/exhibition-page/2046  P204\n",
            "MetaAge 邁達特  https://cybersec.ithome.com.tw/2024/exhibition-page/2012  P204\n",
            "MSS  https://cybersec.ithome.com.tw/2024/exhibition-page/2150  C232\n",
            "宏庭科技  https://cybersec.ithome.com.tw/2024/exhibition-page/2151  P210\n",
            "台灣微軟股份有限公司  https://cybersec.ithome.com.tw/2024/exhibition-page/2195  P210\n",
            "MODA 數位發展部  https://cybersec.ithome.com.tw/2024/exhibition-page/2267  P210\n",
            "MODA 數位發展部  https://cybersec.ithome.com.tw/2024/exhibition-page/1929  P210\n",
            "盟立集團  https://cybersec.ithome.com.tw/2024/exhibition-page/2403  P210\n",
            "Moxa 四零四科技股份有限公司  https://cybersec.ithome.com.tw/2024/exhibition-page/2314  AH10\n",
            "M.Tech 台灣  https://cybersec.ithome.com.tw/2024/exhibition-page/2124  C110\n",
            "NAKIVO  https://cybersec.ithome.com.tw/2024/exhibition-page/2126  C109\n",
            "資安院  https://cybersec.ithome.com.tw/2024/exhibition-page/2223  CT02\n",
            "NEITHNET 騰曜網路科技  https://cybersec.ithome.com.tw/2024/exhibition-page/1967  P202\n",
            "NetApp  https://cybersec.ithome.com.tw/2024/exhibition-page/2088  P206\n",
            "瀚錸科技  https://cybersec.ithome.com.tw/2024/exhibition-page/1942  C122\n",
            "NetFos 逸盈科技  https://cybersec.ithome.com.tw/2024/exhibition-page/2089  C118、C210、Q207\n",
            "NETGEAR / 代理：瀚錸科技  https://cybersec.ithome.com.tw/2024/exhibition-page/1943  C122\n",
            "NETSCOUT  https://cybersec.ithome.com.tw/2024/exhibition-page/2154  C210\n",
            "Netskope  https://cybersec.ithome.com.tw/2024/exhibition-page/2170  Q204\n",
            "正邦資訊  https://cybersec.ithome.com.tw/2024/exhibition-page/2181  P214\n",
            "NSIT  https://cybersec.ithome.com.tw/2024/exhibition-page/1977  C224\n",
            "新漢  https://cybersec.ithome.com.tw/2024/exhibition-page/2252  T09\n",
            "Niagara Networks  https://cybersec.ithome.com.tw/2024/exhibition-page/2127  P115\n",
            "新夥伴科技  https://cybersec.ithome.com.tw/2024/exhibition-page/1941  C221\n",
            "OffSec Services Limited  https://cybersec.ithome.com.tw/2024/exhibition-page/1953  C326\n",
            "歐米英泰 Omni  https://cybersec.ithome.com.tw/2024/exhibition-page/2128  P102\n",
            "Onward Security 安華聯網  https://cybersec.ithome.com.tw/2024/exhibition-page/2104  Q103\n",
            "Openfind 網擎資訊  https://cybersec.ithome.com.tw/2024/exhibition-page/2155  P107\n",
            "OIS  https://cybersec.ithome.com.tw/2024/exhibition-page/2030  C309\n",
            "Open Text Corporation  https://cybersec.ithome.com.tw/2024/exhibition-page/2207  C333\n",
            "OPSWAT  https://cybersec.ithome.com.tw/2024/exhibition-page/1968  P104\n",
            "OptiLIC  https://cybersec.ithome.com.tw/2024/exhibition-page/2036  Q108\n",
            "澄安國際  https://cybersec.ithome.com.tw/2024/exhibition-page/1961  P215,C223\n",
            "橙鋐科技  https://cybersec.ithome.com.tw/2024/exhibition-page/2044  P204、P208\n",
            "ORing  https://cybersec.ithome.com.tw/2024/exhibition-page/2174  Q212\n",
            "OutSystems  https://cybersec.ithome.com.tw/2024/exhibition-page/2398  P104\n",
            "Owl Cyber Defense  https://cybersec.ithome.com.tw/2024/exhibition-page/2129  Q109\n",
            "PacketX 瑞擎數位  https://cybersec.ithome.com.tw/2024/exhibition-page/2186  C235\n",
            "Palo Alto Networks  https://cybersec.ithome.com.tw/2024/exhibition-page/2092  C103\n",
            "潘朵拉科技  https://cybersec.ithome.com.tw/2024/exhibition-page/2179  Q218\n",
            "Paysecure 聯宏科技  https://cybersec.ithome.com.tw/2024/exhibition-page/2131  P114\n",
            "Penta Security  https://cybersec.ithome.com.tw/2024/exhibition-page/2262  Q216\n",
            "Pentera  https://cybersec.ithome.com.tw/2024/exhibition-page/2378  P302\n",
            "奔騰網路  https://cybersec.ithome.com.tw/2024/exhibition-page/2156  C306\n",
            "PTSC  https://cybersec.ithome.com.tw/2024/exhibition-page/2032  Q217\n",
            "朔宇科技  https://cybersec.ithome.com.tw/2024/exhibition-page/2163  C101\n",
            "PiExtract 信研科技  https://cybersec.ithome.com.tw/2024/exhibition-page/2183  C235\n",
            "飛泓科技  https://cybersec.ithome.com.tw/2024/exhibition-page/2031  C123\n",
            "Power Admin  https://cybersec.ithome.com.tw/2024/exhibition-page/2132  C109\n",
            "商丞科技  https://cybersec.ithome.com.tw/2024/exhibition-page/1991  Q107\n",
            "Progress  https://cybersec.ithome.com.tw/2024/exhibition-page/2094  Q111\n",
            "Proofpoint  https://cybersec.ithome.com.tw/2024/exhibition-page/2169  Q204\n",
            "熵碼科技股份有限公司  https://cybersec.ithome.com.tw/2024/exhibition-page/2323  AH04\n",
            "QNAP  https://cybersec.ithome.com.tw/2024/exhibition-page/2052  C230\n",
            "Qualys  https://cybersec.ithome.com.tw/2024/exhibition-page/2182  C235\n",
            "Quest  https://cybersec.ithome.com.tw/2024/exhibition-page/2095  C225\n",
            "Radware  https://cybersec.ithome.com.tw/2024/exhibition-page/2096  C101\n",
            "瑞思資訊  https://cybersec.ithome.com.tw/2024/exhibition-page/1992  C107\n",
            "Reblaze  https://cybersec.ithome.com.tw/2024/exhibition-page/2063  C227\n",
            "Recorded Future  https://cybersec.ithome.com.tw/2024/exhibition-page/2018  Q214\n",
            "Robert Walters 華德士  https://cybersec.ithome.com.tw/2024/exhibition-page/2241  CT04\n",
            "RUITING 叡廷  https://cybersec.ithome.com.tw/2024/exhibition-page/2157  P303\n",
            "SAFOUS  https://cybersec.ithome.com.tw/2024/exhibition-page/2230  C315\n",
            "SAMSUNG  https://cybersec.ithome.com.tw/2024/exhibition-page/2160  C101\n",
            "Seagate  https://cybersec.ithome.com.tw/2024/exhibition-page/2159  C209\n",
            "SECDigit 安數科技  https://cybersec.ithome.com.tw/2024/exhibition-page/2059  C209\n",
            "以柔資訊  https://cybersec.ithome.com.tw/2024/exhibition-page/2189  C218\n",
            "SecurityScorecard  https://cybersec.ithome.com.tw/2024/exhibition-page/1969  P203\n",
            "Semperis  https://cybersec.ithome.com.tw/2024/exhibition-page/2075  P307\n",
            "SendQuick  https://cybersec.ithome.com.tw/2024/exhibition-page/2162  C231\n",
            "SentinelOne  https://cybersec.ithome.com.tw/2024/exhibition-page/2045  P208\n",
            "SGS 台灣檢驗科技股份有限公司  https://cybersec.ithome.com.tw/2024/exhibition-page/2133  C114\n",
            "ShareTech 眾至資訊  https://cybersec.ithome.com.tw/2024/exhibition-page/2033  C241\n",
            "Shield eXtreme 微智安聯  https://cybersec.ithome.com.tw/2024/exhibition-page/2214  T40\n",
            "Silicom Ltd. / 代理：辰亞科技  https://cybersec.ithome.com.tw/2024/exhibition-page/2176  C102\n",
            "Silicon Labs  https://cybersec.ithome.com.tw/2024/exhibition-page/2363  AH06\n",
            "Silverfort / 代理：商丞科技  https://cybersec.ithome.com.tw/2024/exhibition-page/2003  Q107\n",
            "銀興科技  https://cybersec.ithome.com.tw/2024/exhibition-page/1948  P217\n",
            "Simpro 立寶科技  https://cybersec.ithome.com.tw/2024/exhibition-page/2135  Q109\n",
            "鈊保資訊  https://cybersec.ithome.com.tw/2024/exhibition-page/2247  T13\n",
            "SITCON 學生計算機年會  https://cybersec.ithome.com.tw/2024/exhibition-page/2280  T13\n",
            "騰雲運算  https://cybersec.ithome.com.tw/2024/exhibition-page/2164  C311\n",
            "SmartDisplayer 智慧光科技  https://cybersec.ithome.com.tw/2024/exhibition-page/2165  C302\n",
            "Solartech  https://cybersec.ithome.com.tw/2024/exhibition-page/1951  C325\n",
            "SolarWinds  https://cybersec.ithome.com.tw/2024/exhibition-page/1978  C217\n",
            "So-net 台灣碩網網路娛樂股份有限公司  https://cybersec.ithome.com.tw/2024/exhibition-page/2161  C205\n",
            "欣盟科技 / Sphinxtec  https://cybersec.ithome.com.tw/2024/exhibition-page/2008  C105\n",
            "Spirent 思博倫  https://cybersec.ithome.com.tw/2024/exhibition-page/2035  Q302\n",
            "美商浪橋科技  https://cybersec.ithome.com.tw/2024/exhibition-page/2027  C237\n",
            "Splunk  https://cybersec.ithome.com.tw/2024/exhibition-page/2097  C237\n",
            "SSH / 代理：澄安國際  https://cybersec.ithome.com.tw/2024/exhibition-page/1955  P215\n",
            "旭聯資安  https://cybersec.ithome.com.tw/2024/exhibition-page/2225  T10\n",
            "Swimlane  https://cybersec.ithome.com.tw/2024/exhibition-page/2178  T10\n",
            "swissbit / 代理：澄安國際  https://cybersec.ithome.com.tw/2024/exhibition-page/1956  C332\n",
            "Symantec 賽門鐵克  https://cybersec.ithome.com.tw/2024/exhibition-page/2098  C323\n",
            "Synopsys  https://cybersec.ithome.com.tw/2024/exhibition-page/2359  P104\n",
            "SYSCOM 凌羣電腦  https://cybersec.ithome.com.tw/2024/exhibition-page/2243  T41\n",
            "SYSTEX  https://cybersec.ithome.com.tw/2024/exhibition-page/1970  P104\n",
            "臺灣學術網路危機處理中心  https://cybersec.ithome.com.tw/2024/exhibition-page/2264  P104\n",
            "大鈞科技  https://cybersec.ithome.com.tw/2024/exhibition-page/2168  Q204\n",
            "TCA 台北市電腦公會  https://cybersec.ithome.com.tw/2024/exhibition-page/2375  Q204\n",
            "TCA 台北市電腦公會  https://cybersec.ithome.com.tw/2024/exhibition-page/2383  Q204\n",
            "台灣資通產業標準協會 TAICS  https://cybersec.ithome.com.tw/2024/exhibition-page/2272  Q204\n",
            "台灣資通產業標準協會 TAICS  https://cybersec.ithome.com.tw/2024/exhibition-page/2315  AH11\n",
            "臺灣機械工業同業公會  https://cybersec.ithome.com.tw/2024/exhibition-page/2274  AH11\n",
            "社團法人台灣資安產業發展協會  https://cybersec.ithome.com.tw/2024/exhibition-page/2350  AH11\n",
            "台灣區電機電子工業同業公會  https://cybersec.ithome.com.tw/2024/exhibition-page/2318  AH03\n",
            "社團法人台灣資訊安全協會  https://cybersec.ithome.com.tw/2024/exhibition-page/2278  AH03\n",
            "國立成功大學資通安全研究與教學中心  https://cybersec.ithome.com.tw/2024/exhibition-page/2263  AH03\n",
            "Taiwan Mobile 台灣大哥大  https://cybersec.ithome.com.tw/2024/exhibition-page/2137  C220\n",
            "台灣半導體產業協會 ( TSIA )  https://cybersec.ithome.com.tw/2024/exhibition-page/2324  C220\n",
            "台灣車聯網產業協會  https://cybersec.ithome.com.tw/2024/exhibition-page/2361  C220\n",
            "詮睿科技  https://cybersec.ithome.com.tw/2024/exhibition-page/1980  C320\n",
            "TeamT5 杜浦數位安全  https://cybersec.ithome.com.tw/2024/exhibition-page/1983  P106\n",
            "TeamViewer  https://cybersec.ithome.com.tw/2024/exhibition-page/2049  Q304\n",
            "財團法人電信技術中心  https://cybersec.ithome.com.tw/2024/exhibition-page/2351  Q304\n",
            "台灣特洛奇  https://cybersec.ithome.com.tw/2024/exhibition-page/2034  Q302\n",
            "Thales  https://cybersec.ithome.com.tw/2024/exhibition-page/2145  Q101, Q115, C115, P114\n",
            "雲想科技  https://cybersec.ithome.com.tw/2024/exhibition-page/2212  T02\n",
            "椰棗科技  https://cybersec.ithome.com.tw/2024/exhibition-page/2254  T09\n",
            "TOPPAN IDGATE 凸版蓋特  https://cybersec.ithome.com.tw/2024/exhibition-page/2185  C235\n",
            "TOPPAN IDGATE 凸版蓋特  https://cybersec.ithome.com.tw/2024/exhibition-page/2234  T43\n",
            "關貿網路  https://cybersec.ithome.com.tw/2024/exhibition-page/1947  C229\n",
            "Transformists Network  https://cybersec.ithome.com.tw/2024/exhibition-page/2232  C315\n",
            "TRAPA Security  https://cybersec.ithome.com.tw/2024/exhibition-page/2138  Q205\n",
            "趨勢科技  https://cybersec.ithome.com.tw/2024/exhibition-page/1931  Q105\n",
            "TrendzAct  https://cybersec.ithome.com.tw/2024/exhibition-page/2021  P205\n",
            "TrustONE 碩壹資訊  https://cybersec.ithome.com.tw/2024/exhibition-page/2100  P206\n",
            "TrustView 優碩資訊科技  https://cybersec.ithome.com.tw/2024/exhibition-page/2242  T34\n",
            "德欣寰宇  https://cybersec.ithome.com.tw/2024/exhibition-page/2171  Q114\n",
            "湛揚科技 T-Tech  https://cybersec.ithome.com.tw/2024/exhibition-page/2136  P109\n",
            "Tufin  https://cybersec.ithome.com.tw/2024/exhibition-page/2057  P213、P104\n",
            "Twister5 極風雲創  https://cybersec.ithome.com.tw/2024/exhibition-page/1979  C112\n",
            "TXOne Networks  https://cybersec.ithome.com.tw/2024/exhibition-page/2038  Q106\n",
            "UBIQ  https://cybersec.ithome.com.tw/2024/exhibition-page/2064  C227\n",
            "恆逸教育訓練中心  https://cybersec.ithome.com.tw/2024/exhibition-page/2321  P104\n",
            "UGUARD NETWORKS  https://cybersec.ithome.com.tw/2024/exhibition-page/1981  C119\n",
            "聯達資訊  https://cybersec.ithome.com.tw/2024/exhibition-page/2060  C208、C307、C303\n",
            "創泓科技  https://cybersec.ithome.com.tw/2024/exhibition-page/1982  C117、C119、C217、C224、C239、C317\n",
            "uniXecure  https://cybersec.ithome.com.tw/2024/exhibition-page/1971  P104\n",
            "uniXecure  https://cybersec.ithome.com.tw/2024/exhibition-page/2224  CT07\n",
            "UPAS 優倍司  https://cybersec.ithome.com.tw/2024/exhibition-page/2047  Q209\n",
            "URMAZI  https://cybersec.ithome.com.tw/2024/exhibition-page/2039  P304\n",
            "Utimaco  https://cybersec.ithome.com.tw/2024/exhibition-page/2191  P303\n",
            "Varonis / 代理：商丞科技  https://cybersec.ithome.com.tw/2024/exhibition-page/1985  Q107\n",
            "VBUSTER 京稘科技  https://cybersec.ithome.com.tw/2024/exhibition-page/2139  C109\n",
            "Vectra AI  https://cybersec.ithome.com.tw/2024/exhibition-page/2204  C110\n",
            "VERITAS  https://cybersec.ithome.com.tw/2024/exhibition-page/2166  C110\n",
            "V2  https://cybersec.ithome.com.tw/2024/exhibition-page/1997  C219\n",
            "Vicarius  https://cybersec.ithome.com.tw/2024/exhibition-page/2309  C124\n",
            "Virus Total  https://cybersec.ithome.com.tw/2024/exhibition-page/2317  P216\n",
            "Votiro  https://cybersec.ithome.com.tw/2024/exhibition-page/2069  C124\n",
            "華鉅科技  https://cybersec.ithome.com.tw/2024/exhibition-page/2040  C226\n",
            "Waterfall Security  https://cybersec.ithome.com.tw/2024/exhibition-page/2215  P205\n",
            "偉康科技  https://cybersec.ithome.com.tw/2024/exhibition-page/2220  T03\n",
            "偉康科技  https://cybersec.ithome.com.tw/2024/exhibition-page/2041  C212\n",
            "展碁國際  https://cybersec.ithome.com.tw/2024/exhibition-page/2134  Q102、Q304\n",
            "新加坡商威實康科技股份有限公司台灣分公司  https://cybersec.ithome.com.tw/2024/exhibition-page/2101  C323、Q113\n",
            "華邦電子股份有限公司  https://cybersec.ithome.com.tw/2024/exhibition-page/2311  AH02\n",
            "匯智安全科技  https://cybersec.ithome.com.tw/2024/exhibition-page/2172  Q206\n",
            "WithSecure  https://cybersec.ithome.com.tw/2024/exhibition-page/2141  P109\n",
            "WIZON 懷生數位  https://cybersec.ithome.com.tw/2024/exhibition-page/2246  T08、T15\n",
            "擎願科技  https://cybersec.ithome.com.tw/2024/exhibition-page/2231  T25\n",
            "翔棋科技  https://cybersec.ithome.com.tw/2024/exhibition-page/1993  C107\n",
            "研杰科技  https://cybersec.ithome.com.tw/2024/exhibition-page/2193  C107\n",
            "Yubico / 代理：澄安國際  https://cybersec.ithome.com.tw/2024/exhibition-page/1957  P215\n",
            "辰亞科技  https://cybersec.ithome.com.tw/2024/exhibition-page/2173  C102\n",
            "零壹科技  https://cybersec.ithome.com.tw/2024/exhibition-page/2102  P206、C103、C225、C115、116\n",
            "Zscaler  https://cybersec.ithome.com.tw/2024/exhibition-page/2203  Q306\n",
            "ZUSO 如梭世代  https://cybersec.ithome.com.tw/2024/exhibition-page/2042  P209\n",
            "兆勤  https://cybersec.ithome.com.tw/2024/exhibition-page/2043  C316\n",
            "以柔資訊  https://cybersec.ithome.com.tw/2024/exhibition-page/2396  C316\n",
            "宇鼐科技股份有限公司  https://cybersec.ithome.com.tw/2024/exhibition-page/2376  C316\n",
            "聯雲智能 8iSoft  https://cybersec.ithome.com.tw/2024/exhibition-page/2273  T16\n",
            "財團法人資訊工業策進會  https://cybersec.ithome.com.tw/2024/exhibition-page/2394  T16\n",
            "國家科學及技術委員會  https://cybersec.ithome.com.tw/2024/exhibition-page/1930  T16\n",
            "教育部  https://cybersec.ithome.com.tw/2024/exhibition-page/2370  T16\n",
            "電週文化事業(股)公司  https://cybersec.ithome.com.tw/2024/exhibition-page/2310  T16\n",
            "電週文化事業(股)公司  https://cybersec.ithome.com.tw/2024/exhibition-page/1927  T16\n"
          ]
        }
      ]
    },
    {
      "cell_type": "code",
      "source": [
        "import pandas as pd\n",
        "df = pd.DataFrame(exd_info)\n",
        "df.to_csv('cybersec.csv',index=False)"
      ],
      "metadata": {
        "id": "uSmEts19XAUL"
      },
      "execution_count": null,
      "outputs": []
    },
    {
      "cell_type": "code",
      "source": [
        "exd_info[0]"
      ],
      "metadata": {
        "colab": {
          "base_uri": "https://localhost:8080/"
        },
        "id": "4K9QBASIMu02",
        "outputId": "26c87ed3-bdc6-4245-8e45-ff8c0626dd36"
      },
      "execution_count": null,
      "outputs": [
        {
          "output_type": "execute_result",
          "data": {
            "text/plain": [
              "{'name': 'A10 Networks',\n",
              " 'url': 'https://cybersec.ithome.com.tw/2024/exhibition-page/2054',\n",
              " 'space': 'C307'}"
            ]
          },
          "metadata": {},
          "execution_count": 6
        }
      ]
    },
    {
      "cell_type": "markdown",
      "source": [
        "### 動態網頁爬蟲 一\n",
        "(參考) new way1: regular expression 正規表示式"
      ],
      "metadata": {
        "id": "g2MOJEohno4K"
      }
    },
    {
      "cell_type": "code",
      "source": [
        "page_url = exd_info[0][\"url\"]\n",
        "page_response = requests.get(page_url)\n",
        "page_response"
      ],
      "metadata": {
        "colab": {
          "base_uri": "https://localhost:8080/"
        },
        "id": "EQa2vt6CbnlM",
        "outputId": "814361a4-7f3e-4107-db98-a9bc0f02e703"
      },
      "execution_count": null,
      "outputs": [
        {
          "output_type": "execute_result",
          "data": {
            "text/plain": [
              "<Response [200]>"
            ]
          },
          "metadata": {},
          "execution_count": 81
        }
      ]
    },
    {
      "cell_type": "code",
      "source": [
        "len(page_response.text)"
      ],
      "metadata": {
        "colab": {
          "base_uri": "https://localhost:8080/"
        },
        "id": "XrkEI4iGkoDt",
        "outputId": "7ca55c03-883c-4bfa-ceea-9a8a69ffab43"
      },
      "execution_count": null,
      "outputs": [
        {
          "output_type": "execute_result",
          "data": {
            "text/plain": [
              "28922"
            ]
          },
          "metadata": {},
          "execution_count": 83
        }
      ]
    },
    {
      "cell_type": "code",
      "source": [
        "# contact_email: \"apac@a10networks.com\",\n",
        "# contact_phone: \"886-2-2785-2729\",\n",
        "# link_website: \"http:\\u002F\\u002Fwww.a10networks.com\",\n",
        "# link_facebook: \"https:\\u002F\\u002Fwww.facebook.com\\u002Fa10networksTW\",\n",
        "# link_instagram: b,\n",
        "# link_youtube: b,\n",
        "# link_linkedin: \"https:\\u002F\\u002Fwww.linkedin.com\\u002Fcompany\\u002Fa10networks\\u002F\",\n",
        "# link_twitter: \"https:\\u002F\\u002Ftwitter.com\\u002Fa10networks\",\n",
        "# __typename: o"
      ],
      "metadata": {
        "id": "2f9Op-l-kp02"
      },
      "execution_count": null,
      "outputs": []
    },
    {
      "cell_type": "code",
      "source": [
        "# prompt: 請幫我生成一段regular expression，取得contact_email的程式碼\n",
        "# 原始格式為:contact_email: \"apac@a10networks.com\"\n",
        "\n",
        "import re\n",
        "page_text = page_response.text\n",
        "pattern = r'contact_email:\\s*\"([^\"]*)\"'\n",
        "email = re.findall(pattern, page_response.text)\n",
        "print(email)\n"
      ],
      "metadata": {
        "colab": {
          "base_uri": "https://localhost:8080/"
        },
        "id": "SBgrpLz2lNlt",
        "outputId": "5a835983-3f4a-4e31-a49f-60f614695e90"
      },
      "execution_count": null,
      "outputs": [
        {
          "output_type": "stream",
          "name": "stdout",
          "text": [
            "['apac@a10networks.com']\n"
          ]
        }
      ]
    },
    {
      "cell_type": "code",
      "source": [
        "page_text = page_response.text\n",
        "pattern = r'contact_phone:\\s*\"([^\"]*)\"'\n",
        "phone = re.findall(pattern, page_response.text)\n",
        "print(phone)"
      ],
      "metadata": {
        "colab": {
          "base_uri": "https://localhost:8080/"
        },
        "id": "dR_4dM9DnNoz",
        "outputId": "f03cc513-9c3f-4157-ed6f-bc0cdc77783b"
      },
      "execution_count": null,
      "outputs": [
        {
          "output_type": "stream",
          "name": "stdout",
          "text": [
            "['886-2-2785-2729']\n"
          ]
        }
      ]
    },
    {
      "cell_type": "code",
      "source": [
        "page_text = page_response.text\n",
        "pattern = r'link_website:\\s*\"([^\"]*)\"'\n",
        "website = re.findall(pattern, page_response.text)\n",
        "print(website)"
      ],
      "metadata": {
        "colab": {
          "base_uri": "https://localhost:8080/"
        },
        "id": "AHfp-TDHnUhT",
        "outputId": "717bf262-c63b-42a5-8a56-9aa6d5a1ae19"
      },
      "execution_count": null,
      "outputs": [
        {
          "output_type": "stream",
          "name": "stdout",
          "text": [
            "['http:\\\\u002F\\\\u002Fwww.a10networks.com']\n"
          ]
        }
      ]
    },
    {
      "cell_type": "markdown",
      "source": [
        "### 動態網頁爬蟲 二\n",
        "模擬瀏覽器 Selenium"
      ],
      "metadata": {
        "id": "FOHCGOP-n5j_"
      }
    },
    {
      "cell_type": "code",
      "source": [
        "!pip install Selenium"
      ],
      "metadata": {
        "colab": {
          "base_uri": "https://localhost:8080/"
        },
        "id": "SG0V9baWnfhD",
        "outputId": "5b98f2c0-aa83-41f5-ac91-69030f70c179"
      },
      "execution_count": null,
      "outputs": [
        {
          "output_type": "stream",
          "name": "stdout",
          "text": [
            "Requirement already satisfied: Selenium in /usr/local/lib/python3.10/dist-packages (4.23.1)\n",
            "Requirement already satisfied: urllib3<3,>=1.26 in /usr/local/lib/python3.10/dist-packages (from urllib3[socks]<3,>=1.26->Selenium) (2.0.7)\n",
            "Requirement already satisfied: trio~=0.17 in /usr/local/lib/python3.10/dist-packages (from Selenium) (0.26.1)\n",
            "Requirement already satisfied: trio-websocket~=0.9 in /usr/local/lib/python3.10/dist-packages (from Selenium) (0.11.1)\n",
            "Requirement already satisfied: certifi>=2021.10.8 in /usr/local/lib/python3.10/dist-packages (from Selenium) (2024.7.4)\n",
            "Requirement already satisfied: typing_extensions~=4.9 in /usr/local/lib/python3.10/dist-packages (from Selenium) (4.12.2)\n",
            "Requirement already satisfied: websocket-client~=1.8 in /usr/local/lib/python3.10/dist-packages (from Selenium) (1.8.0)\n",
            "Requirement already satisfied: attrs>=23.2.0 in /usr/local/lib/python3.10/dist-packages (from trio~=0.17->Selenium) (23.2.0)\n",
            "Requirement already satisfied: sortedcontainers in /usr/local/lib/python3.10/dist-packages (from trio~=0.17->Selenium) (2.4.0)\n",
            "Requirement already satisfied: idna in /usr/local/lib/python3.10/dist-packages (from trio~=0.17->Selenium) (3.7)\n",
            "Requirement already satisfied: outcome in /usr/local/lib/python3.10/dist-packages (from trio~=0.17->Selenium) (1.3.0.post0)\n",
            "Requirement already satisfied: sniffio>=1.3.0 in /usr/local/lib/python3.10/dist-packages (from trio~=0.17->Selenium) (1.3.1)\n",
            "Requirement already satisfied: exceptiongroup in /usr/local/lib/python3.10/dist-packages (from trio~=0.17->Selenium) (1.2.2)\n",
            "Requirement already satisfied: wsproto>=0.14 in /usr/local/lib/python3.10/dist-packages (from trio-websocket~=0.9->Selenium) (1.2.0)\n",
            "Requirement already satisfied: pysocks!=1.5.7,<2.0,>=1.5.6 in /usr/local/lib/python3.10/dist-packages (from urllib3[socks]<3,>=1.26->Selenium) (1.7.1)\n",
            "Requirement already satisfied: h11<1,>=0.9.0 in /usr/local/lib/python3.10/dist-packages (from wsproto>=0.14->trio-websocket~=0.9->Selenium) (0.14.0)\n"
          ]
        }
      ]
    }
  ]
}